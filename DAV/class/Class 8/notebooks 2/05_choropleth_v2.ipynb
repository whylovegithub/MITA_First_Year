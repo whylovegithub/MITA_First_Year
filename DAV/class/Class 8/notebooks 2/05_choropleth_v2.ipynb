{
 "cells": [
  {
   "cell_type": "code",
   "execution_count": 2,
   "id": "least-helping",
   "metadata": {
    "tags": [
     "remove-cell"
    ]
   },
   "outputs": [],
   "source": [
    "import warnings\n",
    "warnings.filterwarnings(\"ignore\")"
   ]
  },
  {
   "cell_type": "markdown",
   "id": "quantitative-philippines",
   "metadata": {},
   "source": [
    "# Choropleth Mapping\n",
    "\n"
   ]
  },
  {
   "cell_type": "markdown",
   "id": "recent-youth",
   "metadata": {},
   "source": [
    "## Principles\n",
    "\n",
    "\n",
    "Choropleths are geographic maps that display statistical information encoded \n",
    "in a color palette. Choropleth maps play a prominent role in geographic data science as they allow\n",
    "us to display non-geographic attributes or variables on a geographic map. The\n",
    "word choropleth stems from the root \"choro\", meaning \"region\". As such\n",
    "choropleth maps represent data at the region level, and are appropriate for\n",
    "areal unit data where each observation combines a value of an attribute and a\n",
    "geometric figure, usually a polygon. Choropleth maps derive from an earlier era\n",
    "where cartographers faced technological constraints that precluded the use of\n",
    "unclassed maps where each unique attribute value could be represented by a\n",
    "distinct symbol or color. Instead, attribute values were grouped into a smaller\n",
    "number of classes, usually not more than 12. Each class was associated with a\n",
    "unique symbol that was in turn applied to all observations with attribute values\n",
    "falling in the class.\n",
    "\n",
    "Although today these technological constraints are no longer binding, and\n",
    "unclassed mapping is feasible, there are still good reasons for adopting a\n",
    "classed approach.\n",
    "\n",
    "* Chief among these is to reduce the cognitive load involved in parsing the complexity of an unclassed map. \n",
    "\n",
    "* A choropleth map reduces this complexity by drawing upon statistical and visualization theory to provide an effective representation of the spatial distribution of the attribute values across the areal units. \n",
    "\n",
    "The effectiveness of a choropleth map depends largely on the purpose of the map.\n",
    "Which message you want to communicate will shape what options are preferable\n",
    "over others. In this chapter we consider three dimensions over which putting\n",
    "intentional thinking will pay off. Choropleth mapping thus revolves around:  \n",
    "\n",
    "* first,selecting a number of groups smaller than $n$ into which all values in our dataset will be mapped to; \n",
    "* second, identifying a classification algorithm that executes such\n",
    "mapping, following some principle that is aligned with our interest; and\n",
    "* third, once we know into how many groups we are going to reduce all values in our data, which color is assigned to each group to ensure it encodes the information we want to reflect.\n",
    "\n",
    "In broad terms, the classification scheme\n",
    "defines the number of classes as well as the rules for assignment; while a good\n",
    "symbolization conveys information about the value differentiation across\n",
    "classes.\n",
    "\n",
    "In this chapter we first discuss the approaches used to classify attribute\n",
    "values. This is followed by a (brief) overview of color theory and the implications of\n",
    "different color schemes for effective map design. We combine theory and practice\n",
    "by exploring how these concepts are implemented in different Python packages,\n",
    "including `geopandas`, and `PySAL`.\n",
    "\n",
    "\n"
   ]
  },
  {
   "cell_type": "code",
   "execution_count": 3,
   "id": "frequent-excerpt",
   "metadata": {},
   "outputs": [],
   "source": [
    "import seaborn\n",
    "import pandas\n",
    "import geopandas\n",
    "import pysal\n",
    "import numpy\n",
    "import matplotlib.pyplot as plt"
   ]
  },
  {
   "cell_type": "markdown",
   "id": "boolean-disclaimer",
   "metadata": {},
   "source": [
    "## Quantitative data classification \n",
    "\n",
    "Selecting the number of groups into which we want to assign the values in our data,\n",
    "and how each value is assigned into a group can be seen as a classification problem.\n",
    "Data classification considers the problem of \n",
    "partitioning the attribute values into mutually exclusive and exhaustive\n",
    "groups. The precise manner in which this is done will be a function of the\n",
    "measurement scale of the attribute in question. For quantitative attributes\n",
    "(ordinal, interval, ratio scales) the classes will have an explicit ordering.\n",
    "More formally, the classification problem is to define class boundaries such\n",
    "that\n",
    "\n",
    "$$\n",
    "c_j < y_i \\le  c_{j+1} \\ \\forall y_i \\in C_{j}\n",
    "$$\n",
    "\n",
    "where $y_i$ is the\n",
    "value of the attribute for spatial location $i$, $j$ is a class index, and $c_j$\n",
    "represents the lower bound of interval $j$. Different classification schemes obtain from their definition of the class\n",
    "boundaries. The choice of the classification scheme should take into\n",
    "consideration \n",
    "* the statistical distribution of the attribute values as wellas the \n",
    "* goal of our map (e.g., highlight outliers Vs accurately depict the distribution of values).\n",
    "\n",
    "To illustrate these considerations, we will examine regional income data for the\n",
    "32 Mexican states used in the paper by {cite}`Rey_2010`. The variable we focus on is per capita gross domestic product\n",
    "for 1940 (`PCGDP1940`):"
   ]
  },
  {
   "cell_type": "code",
   "execution_count": 4,
   "id": "sophisticated-cookbook",
   "metadata": {
    "tags": []
   },
   "outputs": [
    {
     "data": {
      "text/html": [
       "<div>\n",
       "<style scoped>\n",
       "    .dataframe tbody tr th:only-of-type {\n",
       "        vertical-align: middle;\n",
       "    }\n",
       "\n",
       "    .dataframe tbody tr th {\n",
       "        vertical-align: top;\n",
       "    }\n",
       "\n",
       "    .dataframe thead th {\n",
       "        text-align: right;\n",
       "    }\n",
       "</style>\n",
       "<table border=\"1\" class=\"dataframe\">\n",
       "  <thead>\n",
       "    <tr style=\"text-align: right;\">\n",
       "      <th></th>\n",
       "      <th>NAME</th>\n",
       "      <th>PCGDP1940</th>\n",
       "    </tr>\n",
       "  </thead>\n",
       "  <tbody>\n",
       "    <tr>\n",
       "      <th>0</th>\n",
       "      <td>Baja California Norte</td>\n",
       "      <td>22361.0</td>\n",
       "    </tr>\n",
       "    <tr>\n",
       "      <th>1</th>\n",
       "      <td>Baja California Sur</td>\n",
       "      <td>9573.0</td>\n",
       "    </tr>\n",
       "    <tr>\n",
       "      <th>2</th>\n",
       "      <td>Nayarit</td>\n",
       "      <td>4836.0</td>\n",
       "    </tr>\n",
       "    <tr>\n",
       "      <th>3</th>\n",
       "      <td>Jalisco</td>\n",
       "      <td>5309.0</td>\n",
       "    </tr>\n",
       "    <tr>\n",
       "      <th>4</th>\n",
       "      <td>Aguascalientes</td>\n",
       "      <td>10384.0</td>\n",
       "    </tr>\n",
       "  </tbody>\n",
       "</table>\n",
       "</div>"
      ],
      "text/plain": [
       "                    NAME  PCGDP1940\n",
       "0  Baja California Norte    22361.0\n",
       "1    Baja California Sur     9573.0\n",
       "2                Nayarit     4836.0\n",
       "3                Jalisco     5309.0\n",
       "4         Aguascalientes    10384.0"
      ]
     },
     "execution_count": 4,
     "metadata": {},
     "output_type": "execute_result"
    }
   ],
   "source": [
    "mx = geopandas.read_file(\"../data/mexico/mexicojoin.shp\")\n",
    "mx[['NAME', 'PCGDP1940']].head()"
   ]
  },
  {
   "cell_type": "code",
   "execution_count": 5,
   "id": "1e186ac2-5792-4855-a4df-1f98d6644177",
   "metadata": {},
   "outputs": [
    {
     "data": {
      "text/plain": [
       "(32, 35)"
      ]
     },
     "execution_count": 5,
     "metadata": {},
     "output_type": "execute_result"
    }
   ],
   "source": [
    "mx.shape"
   ]
  },
  {
   "cell_type": "markdown",
   "id": "caroline-violence",
   "metadata": {},
   "source": [
    "Which displays the following statistical distribution:"
   ]
  },
  {
   "cell_type": "code",
   "execution_count": 8,
   "id": "radical-drill",
   "metadata": {
    "caption": "Distribution of per capita GDP across 1940s Mexican States",
    "tags": []
   },
   "outputs": [
    {
     "data": {
      "image/png": "[encoded data removed]",
      "text/plain": [
       "<Figure size 432x288 with 1 Axes>"
      ]
     },
     "metadata": {
      "needs_background": "light"
     },
     "output_type": "display_data"
    }
   ],
   "source": [
    "# Plot histogram\n",
    "ax = seaborn.histplot(mx['PCGDP1940'], bins=5)\n",
    "# Add rug on horizontal axis\n",
    "seaborn.rugplot(\n",
    "    mx['PCGDP1940'], height=0.05, color='red', ax=ax\n",
    ");"
   ]
  },
  {
   "cell_type": "markdown",
   "id": "jewish-broadway",
   "metadata": {},
   "source": [
    "As we can see, the distribution is positively skewed as in common in regional income studies. In other words,\n",
    "the mean exceeds the median (`50%`, in the table below), leading the to fat right tail in the figure. As\n",
    "we shall see, this skewness will have implications for the choice of choropleth\n",
    "classification scheme."
   ]
  },
  {
   "cell_type": "code",
   "execution_count": 7,
   "id": "external-tiger",
   "metadata": {
    "lines_to_next_cell": 2
   },
   "outputs": [
    {
     "data": {
      "text/plain": [
       "count       32.000000\n",
       "mean      7230.531250\n",
       "std       5204.952883\n",
       "min       1892.000000\n",
       "25%       3701.750000\n",
       "50%       5256.000000\n",
       "75%       8701.750000\n",
       "max      22361.000000\n",
       "Name: PCGDP1940, dtype: float64"
      ]
     },
     "execution_count": 7,
     "metadata": {},
     "output_type": "execute_result"
    }
   ],
   "source": [
    "mx['PCGDP1940'].describe()"
   ]
  },
  {
   "cell_type": "markdown",
   "id": "ideal-sally",
   "metadata": {},
   "source": [
    "For quantitative attributes we first sort the data by their value,\n",
    "such that $x_0 \\le x_2 \\ldots \\le x_{n-1}$. For a prespecified number of classes\n",
    "$k$, the classification problem boils down to selecting $k-1$ break points\n",
    "along the sorted values that separate the values into mutually exclusive and\n",
    "exhaustive groups.\n",
    "\n",
    "In fact, the determination of the histogram above can\n",
    "be viewed as one approach to this selection.\n",
    "The method `seaborn.histplot` uses the matplotlib `hist`\n",
    "function under the hood to determine the class boundaries and the counts of\n",
    "observations in each class. In the figure, we have five classes which can be\n",
    "extracted with an explicit call to the `hist` function:"
   ]
  },
  {
   "cell_type": "code",
   "execution_count": 9,
   "id": "religious-google",
   "metadata": {},
   "outputs": [],
   "source": [
    "counts, bins, patches = ax.hist(mx['PCGDP1940'], bins=5)"
   ]
  },
  {
   "cell_type": "markdown",
   "id": "wanted-surrey",
   "metadata": {},
   "source": [
    "The `counts` object captures how many observations each category in the classification has:"
   ]
  },
  {
   "cell_type": "code",
   "execution_count": 10,
   "id": "viral-israel",
   "metadata": {},
   "outputs": [
    {
     "data": {
      "text/plain": [
       "array([17.,  9.,  3.,  1.,  2.])"
      ]
     },
     "execution_count": 10,
     "metadata": {},
     "output_type": "execute_result"
    }
   ],
   "source": [
    "counts"
   ]
  },
  {
   "cell_type": "markdown",
   "id": "multiple-elizabeth",
   "metadata": {},
   "source": [
    "The `bin` object stores these break points we are interested in when considering classification schemes (the `patches` object can be ignored in this context, as it stores the geometries of the histogram plot):"
   ]
  },
  {
   "cell_type": "code",
   "execution_count": 11,
   "id": "associate-debate",
   "metadata": {},
   "outputs": [
    {
     "data": {
      "text/plain": [
       "array([ 1892. ,  5985.8, 10079.6, 14173.4, 18267.2, 22361. ])"
      ]
     },
     "execution_count": 11,
     "metadata": {},
     "output_type": "execute_result"
    }
   ],
   "source": [
    "bins"
   ]
  },
  {
   "cell_type": "markdown",
   "id": "imperial-enclosure",
   "metadata": {},
   "source": [
    "This yields five bins, with the first having a lower bound of 1892 and an upper\n",
    "bound of 5985.8 which contains 17 observations. The determination of the\n",
    "interval width ($w$) and the number of bins in `seaborn` is based on the Freedman-Diaconis rule {cite}`freedman1981histogram`:\n",
    "\n",
    "$$\n",
    "w = 2 * IQR * n^{-1/3}\n",
    "$$\n",
    "\n",
    "where $IQR$ is the inter quartile\n",
    "range of the attribute values. Given $w$, the number of bins ($k$) is:\n",
    "\n",
    "$$k = \\dfrac{(max-min)}{w}$$\n",
    "\n",
    "The choropleth literature has many alternative classification algorithms that follow criteria that can be of interest in different contexts, as they focus on different priorities. Below, we will focus on a few of them. To compute the classification, we will rely on the `mapclassify` package of the PySAL family:"
   ]
  },
  {
   "cell_type": "code",
   "execution_count": 12,
   "id": "still-music",
   "metadata": {},
   "outputs": [],
   "source": [
    "import mapclassify"
   ]
  },
  {
   "cell_type": "markdown",
   "id": "civilian-vacation",
   "metadata": {},
   "source": [
    "### Equal Intervals\n",
    "\n",
    "The Freedman-Diaconis approach provides a rule to determine the width and, in\n",
    "turn, the number of bins for the classification. This is a special case of a\n",
    "more general classifier known as \"equal intervals\", where each of the bins has\n",
    "the same width in the value space. For a given value of $k$, equal intervals\n",
    "classification splits the range of the attribute space into $k$ equal length\n",
    "intervals, with each interval having a width $w = \\frac{x_0 - x_{n-1}}{k}$. Thus\n",
    "the maximum class is $(x_{n-1}-w, x_{n-1}]$ and the first class is $(-\\infty,\n",
    "x_{n-1} - (k-1)w]$.\n",
    "\n",
    "Equal intervals have the dual advantages of simplicity and ease of\n",
    "interpretation. However, this rule only considers the extreme values of the\n",
    "distribution and, in some cases, this can result in one or more classes being\n",
    "sparse. This is clearly the case in our income dataset, as the majority of the\n",
    "values are placed into the first two classes leaving the last three classes\n",
    "rather sparse:"
   ]
  },
  {
   "cell_type": "code",
   "execution_count": 13,
   "id": "narrow-innocent",
   "metadata": {},
   "outputs": [
    {
     "data": {
      "text/plain": [
       "EqualInterval               \n",
       "\n",
       "      Interval         Count\n",
       "----------------------------\n",
       "[ 1892.00,  5985.80] |    17\n",
       "( 5985.80, 10079.60] |     9\n",
       "(10079.60, 14173.40] |     3\n",
       "(14173.40, 18267.20] |     1\n",
       "(18267.20, 22361.00] |     2"
      ]
     },
     "execution_count": 13,
     "metadata": {},
     "output_type": "execute_result"
    }
   ],
   "source": [
    "ei5 = mapclassify.EqualInterval(mx['PCGDP1940'], k=5)\n",
    "ei5"
   ]
  },
  {
   "cell_type": "markdown",
   "id": "blank-tuning",
   "metadata": {},
   "source": [
    " Note that each of the intervals, however, has equal width of\n",
    "$w=4093.8$. It should also be noted that the first class is closed on the lower bound,\n",
    "in contrast to the general approach defined above."
   ]
  },
  {
   "cell_type": "markdown",
   "id": "impressive-eugene",
   "metadata": {},
   "source": [
    "### Quantiles\n",
    "To avoid the potential problem of sparse classes, the quantiles of\n",
    "the distribution can be used to identify the class boundaries. Indeed, each\n",
    "class will have approximately $\\mid\\frac{n}{k}\\mid$ observations using the quantile\n",
    "classifier. If $k=5$ the sample quintiles are used to define the upper limits of\n",
    "each class resulting in the following classification:"
   ]
  },
  {
   "cell_type": "code",
   "execution_count": 14,
   "id": "humanitarian-pearl",
   "metadata": {},
   "outputs": [
    {
     "data": {
      "text/plain": [
       "Quantiles                   \n",
       "\n",
       "      Interval         Count\n",
       "----------------------------\n",
       "[ 1892.00,  3576.20] |     7\n",
       "( 3576.20,  4582.80] |     6\n",
       "( 4582.80,  6925.20] |     6\n",
       "( 6925.20,  9473.00] |     6\n",
       "( 9473.00, 22361.00] |     7"
      ]
     },
     "execution_count": 14,
     "metadata": {},
     "output_type": "execute_result"
    }
   ],
   "source": [
    "q5 = mapclassify.Quantiles(mx.PCGDP1940, k=5)\n",
    "q5"
   ]
  },
  {
   "cell_type": "markdown",
   "id": "dried-differential",
   "metadata": {},
   "source": [
    "Note that while the numbers of values in each class are roughly equal, the\n",
    "widths of the first four intervals are rather different:"
   ]
  },
  {
   "cell_type": "code",
   "execution_count": 15,
   "id": "cc36e66d-3b2c-4685-a2d6-138e827cb55f",
   "metadata": {},
   "outputs": [
    {
     "data": {
      "text/plain": [
       "array([ 3576.2,  4582.8,  6925.2,  9473. , 22361. ])"
      ]
     },
     "execution_count": 15,
     "metadata": {},
     "output_type": "execute_result"
    }
   ],
   "source": [
    "q5.bins"
   ]
  },
  {
   "cell_type": "code",
   "execution_count": 16,
   "id": "numerical-requirement",
   "metadata": {},
   "outputs": [
    {
     "data": {
      "text/plain": [
       "array([ 1006.6,  2342.4,  2547.8, 12888. ])"
      ]
     },
     "execution_count": 16,
     "metadata": {},
     "output_type": "execute_result"
    }
   ],
   "source": [
    "q5.bins[1:] - q5.bins[:-1]"
   ]
  },
  {
   "cell_type": "markdown",
   "id": "residential-truck",
   "metadata": {},
   "source": [
    "While quantiles does avoid the pitfall of sparse classes, this classification is\n",
    "not problem free. The varying widths of the intervals can be markedly different\n",
    "which can lead to problems of interpretation. A second challenge facing quantiles\n",
    "arises when there are a large number of duplicate values in the distribution\n",
    "such that the limits for one or more classes become ambiguous. For example, if one had a variable with $n=20$ but 10 of the observations took on the same value which was the minimum observed, then for values of $k>2$, the class boundaries become ill-defined since a simple rule of splitting at the $n/k$ ranked observed value would depend upon how ties are treated when ranking.\n",
    "\n",
    "Let us generate a synthetic variable with these characteristics:"
   ]
  },
  {
   "cell_type": "code",
   "execution_count": 17,
   "id": "possible-sucking",
   "metadata": {},
   "outputs": [
    {
     "data": {
      "text/plain": [
       "array([0, 0, 0, 0, 0, 0, 0, 0, 0, 0, 9, 7, 6, 0, 2, 9, 1, 2, 6, 7])"
      ]
     },
     "execution_count": 17,
     "metadata": {},
     "output_type": "execute_result"
    }
   ],
   "source": [
    "# Set seed for reproducibility\n",
    "numpy.random.seed(12345)\n",
    "# Generate a variable of 20 values randomly\n",
    "# selected from 0 to 10\n",
    "x = numpy.random.randint(0,10,20)\n",
    "# Manually ensure the first ten values are 0 (the\n",
    "# minimum value)\n",
    "x[0:10] = x.min()\n",
    "x"
   ]
  },
  {
   "cell_type": "markdown",
   "id": "pointed-sapphire",
   "metadata": {},
   "source": [
    "And we will now run quantile classification:"
   ]
  },
  {
   "cell_type": "code",
   "execution_count": 18,
   "id": "convertible-biography",
   "metadata": {},
   "outputs": [
    {
     "data": {
      "text/plain": [
       "Quantiles           \n",
       "\n",
       "  Interval     Count\n",
       "--------------------\n",
       "[0.00, 0.00] |    11\n",
       "(0.00, 1.40] |     1\n",
       "(1.40, 6.20] |     4\n",
       "(6.20, 9.00] |     4"
      ]
     },
     "execution_count": 18,
     "metadata": {},
     "output_type": "execute_result"
    }
   ],
   "source": [
    "ties = mapclassify.Quantiles(x, k=5)\n",
    "ties"
   ]
  },
  {
   "cell_type": "markdown",
   "id": "preliminary-strap",
   "metadata": {},
   "source": [
    "For clarity, the unique values in our dataset are:"
   ]
  },
  {
   "cell_type": "code",
   "execution_count": 19,
   "id": "proved-uncertainty",
   "metadata": {},
   "outputs": [
    {
     "data": {
      "text/plain": [
       "array([0, 1, 2, 6, 7, 9])"
      ]
     },
     "execution_count": 19,
     "metadata": {},
     "output_type": "execute_result"
    }
   ],
   "source": [
    "ux = numpy.unique(x)\n",
    "ux"
   ]
  },
  {
   "cell_type": "markdown",
   "id": "equal-making",
   "metadata": {},
   "source": [
    "In this case, `mapclassify` will issue a warning alerting the user to the issue that this sample does not contain enough unique values to form \n",
    "the number of well-defined classes requested.  It then forms a lower number of classes using pseudo quantiles, or quantiles defined on the unique values in the sample, and then uses the pseudo quantiles to classify all the values."
   ]
  },
  {
   "cell_type": "markdown",
   "id": "chemical-eugene",
   "metadata": {},
   "source": [
    "### Mean-standard deviation\n",
    "\n",
    "Our third classifier uses the sample mean $\\bar{x} =\n",
    "\\frac{1}{n} \\sum_{i=1}^n x_i$ and sample standard deviation $s = \\sqrt{\n",
    "\\frac{1}{n-1} \\sum_{i=1}^n (x_i - \\bar{x})  }$ to define class boundaries as\n",
    "some distance from the sample mean, with the distance being a multiple of the\n",
    "standard deviation. For example, a common definition for $k=5$ is to set the\n",
    "upper limit of the first class to two standard deviations ($c_{0}^u = \\bar{x} - 2 s$), and the intermediate\n",
    "classes to have upper limits within one standard deviation ($c_{1}^u = \\bar{x}-s,\\ c_{2}^u = \\bar{x}+s, \\ c_{3}^u\n",
    "= \\bar{x}+2s$). Any values greater (smaller) than two standard deviations above (below) the mean\n",
    "are placed into the top (bottom) class."
   ]
  },
  {
   "cell_type": "code",
   "execution_count": 20,
   "id": "hollow-blackjack",
   "metadata": {},
   "outputs": [
    {
     "data": {
      "text/plain": [
       "StdMean                     \n",
       "\n",
       "      Interval         Count\n",
       "----------------------------\n",
       "(    -inf, -3179.37] |     0\n",
       "(-3179.37,  2025.58] |     1\n",
       "( 2025.58, 12435.48] |    28\n",
       "(12435.48, 17640.44] |     0\n",
       "(17640.44, 22361.00] |     3"
      ]
     },
     "execution_count": 20,
     "metadata": {},
     "output_type": "execute_result"
    }
   ],
   "source": [
    "msd = mapclassify.StdMean(mx['PCGDP1940'])\n",
    "msd"
   ]
  },
  {
   "cell_type": "markdown",
   "id": "regulated-license",
   "metadata": {},
   "source": [
    "This classifier is best used when data is normally distributed or, at least, when the sample mean is a meaningful measure to anchor the classification around. Clearly this is\n",
    "not the case for our income data as the positive skew results in a loss of\n",
    "information when we use the standard deviation. The lack of symmetry leads to\n",
    "an inadmissible upper bound for the first  class as well as a concentration of the\n",
    "vast majority of values in the middle class.\n",
    "\n",
    "### Maximum Breaks\n",
    "\n",
    "The maximum breaks classifier decides where to set the break points between\n",
    "classes by considering the difference between sorted values. That is, rather\n",
    "than considering a value of the dataset in itself, it looks at how apart each\n",
    "value is from the next one in the sorted sequence. The classifier then places\n",
    "the the $k-1$ break points in between the pairs of values most stretched apart from\n",
    "each other in the entire sequence, proceeding in descending order relative to\n",
    "the size of the breaks:"
   ]
  },
  {
   "cell_type": "code",
   "execution_count": 21,
   "id": "activated-slave",
   "metadata": {},
   "outputs": [
    {
     "data": {
      "text/plain": [
       "MaximumBreaks               \n",
       "\n",
       "      Interval         Count\n",
       "----------------------------\n",
       "[ 1892.00,  5854.00] |    17\n",
       "( 5854.00, 11574.00] |    11\n",
       "(11574.00, 14974.00] |     1\n",
       "(14974.00, 19890.50] |     1\n",
       "(19890.50, 22361.00] |     2"
      ]
     },
     "execution_count": 21,
     "metadata": {},
     "output_type": "execute_result"
    }
   ],
   "source": [
    "mb5 = mapclassify.MaximumBreaks(mx['PCGDP1940'], k=5)\n",
    "mb5"
   ]
  },
  {
   "cell_type": "markdown",
   "id": "waiting-madrid",
   "metadata": {},
   "source": [
    "Maximum breaks is an appropriate approach when we are interested in making sure\n",
    "observations in each class are separated from those in neighboring classes. As\n",
    "such, it works well in cases where the distribution of values is not unimodal.\n",
    "In addition, the algorithm is relatively fast to compute. However, its\n",
    "simplicity can sometimes cause unexpected results. To the extent in only\n",
    "considers the top $k-1$ differences between consecutive values, other more nuanced\n",
    "within-group differences and dissimilarities can be ignored.\n",
    "\n",
    "### Box-Plot\n",
    "\n",
    "The box-plot classification is a blend of the quantile and\n",
    "standard deviation classifiers. Here $k$ is predefined to six, with the upper limit of the first class is set\n",
    "to:\n",
    "\n",
    "$$q_{0.25}-h \\, IQR$$\n",
    "\n",
    "where $IQR = q_{0.75}-q_{0.25}$ is the\n",
    "inter-quartile range; and $h$ corresponds to the hinge, or the multiplier of the $IQR$ to obtain the bounds of the \"whiskers\" from a box-and-whisker plot of the data. The lower limit of the sixth class is set to $q_{0.75}+h \\,\n",
    "IQR$. Intermediate classes have their upper limits set to the 0.25, 0.50 and\n",
    "0.75 percentiles of the attribute values."
   ]
  },
  {
   "cell_type": "code",
   "execution_count": 22,
   "id": "original-least",
   "metadata": {},
   "outputs": [
    {
     "data": {
      "text/plain": [
       "BoxPlot                     \n",
       "\n",
       "      Interval         Count\n",
       "----------------------------\n",
       "(    -inf, -3798.25] |     0\n",
       "(-3798.25,  3701.75] |     8\n",
       "( 3701.75,  5256.00] |     8\n",
       "( 5256.00,  8701.75] |     8\n",
       "( 8701.75, 16201.75] |     5\n",
       "(16201.75, 22361.00] |     3"
      ]
     },
     "execution_count": 22,
     "metadata": {},
     "output_type": "execute_result"
    }
   ],
   "source": [
    "bp = mapclassify.BoxPlot(mx['PCGDP1940'])\n",
    "bp"
   ]
  },
  {
   "cell_type": "markdown",
   "id": "backed-legislation",
   "metadata": {},
   "source": [
    "Any values falling into either of the extreme classes are defined as outliers.\n",
    "Note that because the income values are non-negative by definition, the lower\n",
    "outlier class has an inadmissible upper bound meaning that lower outliers would\n",
    "not be possible for this sample.\n",
    "\n",
    "The default value for the hinge is $h=1.5$ in\n",
    "PySAL. However, this can be specified by the user for an alternative classification:"
   ]
  },
  {
   "cell_type": "code",
   "execution_count": null,
   "id": "bulgarian-stake",
   "metadata": {},
   "outputs": [],
   "source": [
    "bp1 = mapclassify.BoxPlot(mx['PCGDP1940'], hinge=1)\n",
    "bp1"
   ]
  },
  {
   "cell_type": "markdown",
   "id": "vital-perry",
   "metadata": {},
   "source": [
    "Doing so will affect the definition of the outlier classes, as well as the\n",
    "neighboring internal classes.\n",
    "\n",
    "### Head-Tail Breaks\n",
    "\n",
    "The head tail algorithm {cite}`Jiang_2013` is based on a recursive partitioning of the data using splits around\n",
    "iterative means. The splitting process continues until the distributions within each of\n",
    "the classes no longer display a heavy-tailed distribution in the sense that\n",
    "there is a balance between the number of smaller and larger values assigned to\n",
    "each class."
   ]
  },
  {
   "cell_type": "code",
   "execution_count": 23,
   "id": "valuable-harrison",
   "metadata": {},
   "outputs": [
    {
     "data": {
      "text/plain": [
       "HeadTailBreaks              \n",
       "\n",
       "      Interval         Count\n",
       "----------------------------\n",
       "[ 1892.00,  7230.53] |    20\n",
       "( 7230.53, 12244.42] |     9\n",
       "(12244.42, 20714.00] |     1\n",
       "(20714.00, 22163.00] |     1\n",
       "(22163.00, 22361.00] |     1"
      ]
     },
     "execution_count": 23,
     "metadata": {},
     "output_type": "execute_result"
    }
   ],
   "source": [
    "ht = mapclassify.HeadTailBreaks(mx['PCGDP1940'])\n",
    "ht"
   ]
  },
  {
   "cell_type": "markdown",
   "id": "packed-ranch",
   "metadata": {},
   "source": [
    "For data with a heavy-tailed distribution, such as power law and log normal\n",
    "distributions, the head tail breaks classifier  can be particularly\n",
    "effective.\n",
    "\n",
    "### Jenks Caspall\n",
    "\n",
    "This approach, as well as the following two, tackles the classification\n",
    "challenge from a heuristic perspective, rather than from deterministic one.\n",
    "Originally proposed by {cite}`Jenks_1971`, this algorithm aims to *minimize\n",
    "the sum of absolute deviations around class means*. The approach begins with a\n",
    "prespecified number of classes and an arbitrary initial set of class breaks -\n",
    "for example using quintiles. The algorithm attempts to improve the objective\n",
    "function by considering the movement of observations between adjacent classes.\n",
    "For example, the largest value in the lowest quintile would be considered for\n",
    "movement into the second quintile, while the lowest value in the second\n",
    "quintile would be considered for a possible move into the first quintile. The\n",
    "candidate move resulting in the largest reduction in the objective function\n",
    "would be made, and the process continues until no other improving moves are\n",
    "possible. The Jenks Caspall algorithm is the one-dimension case of the widely\n",
    "used K-Means algorithm for clustering, which we will see later in this book\n",
    "when we consider [Clustering & Regionalization](10_clustering_and_regionalization)."
   ]
  },
  {
   "cell_type": "code",
   "execution_count": 24,
   "id": "specific-shakespeare",
   "metadata": {},
   "outputs": [
    {
     "data": {
      "text/plain": [
       "JenksCaspall                \n",
       "\n",
       "      Interval         Count\n",
       "----------------------------\n",
       "[ 1892.00,  2934.00] |     4\n",
       "( 2934.00,  4414.00] |     9\n",
       "( 4414.00,  6399.00] |     5\n",
       "( 6399.00, 12132.00] |    11\n",
       "(12132.00, 22361.00] |     3"
      ]
     },
     "execution_count": 24,
     "metadata": {},
     "output_type": "execute_result"
    }
   ],
   "source": [
    "numpy.random.seed(12345)\n",
    "jc5 = mapclassify.JenksCaspall(mx['PCGDP1940'], k=5)\n",
    "jc5"
   ]
  },
  {
   "cell_type": "markdown",
   "id": "technical-thailand",
   "metadata": {},
   "source": [
    "### Fisher Jenks\n",
    "\n",
    "The second optimal algorithm adopts a dynamic programming approach to minimize\n",
    "the sum of the absolute deviations around class medians. In contrast to the\n",
    "Jenks-Caspall approach, Fisher-Jenks is guaranteed to produce an optimal\n",
    "classification for a prespecified number of classes:"
   ]
  },
  {
   "cell_type": "code",
   "execution_count": 25,
   "id": "blond-greeting",
   "metadata": {},
   "outputs": [
    {
     "data": {
      "text/plain": [
       "FisherJenks                 \n",
       "\n",
       "      Interval         Count\n",
       "----------------------------\n",
       "[ 1892.00,  5309.00] |    17\n",
       "( 5309.00,  9073.00] |     8\n",
       "( 9073.00, 12132.00] |     4\n",
       "(12132.00, 17816.00] |     1\n",
       "(17816.00, 22361.00] |     2"
      ]
     },
     "execution_count": 25,
     "metadata": {},
     "output_type": "execute_result"
    }
   ],
   "source": [
    "numpy.random.seed(12345)\n",
    "fj5 = mapclassify.FisherJenks(mx['PCGDP1940'], k=5)\n",
    "fj5"
   ]
  },
  {
   "cell_type": "markdown",
   "id": "express-configuration",
   "metadata": {},
   "source": [
    "### Max-p\n",
    "\n",
    "Finally, the max-p classifiers adopts the algorithm underlying the max-p region\n",
    "building method {cite}`Duque_2011` to the case of map classification. It is similar in spirit to\n",
    "Jenks Caspall in that it considers greedy swapping between adjacent classes to\n",
    "improve the objective function. It is a heuristic, however, so unlike\n",
    "Fisher-Jenks, there is no optimal solution guaranteed:"
   ]
  },
  {
   "cell_type": "code",
   "execution_count": 26,
   "id": "legislative-running",
   "metadata": {},
   "outputs": [
    {
     "data": {
      "text/plain": [
       "MaxP                        \n",
       "\n",
       "      Interval         Count\n",
       "----------------------------\n",
       "[ 1892.00,  3569.00] |     7\n",
       "( 3569.00,  5309.00] |    10\n",
       "( 5309.00,  7990.00] |     5\n",
       "( 7990.00, 10384.00] |     5\n",
       "(10384.00, 22361.00] |     5"
      ]
     },
     "execution_count": 26,
     "metadata": {},
     "output_type": "execute_result"
    }
   ],
   "source": [
    "mp5 = mapclassify.MaxP(mx['PCGDP1940'], k=5)\n",
    "mp5"
   ]
  },
  {
   "cell_type": "markdown",
   "id": "authorized-packet",
   "metadata": {},
   "source": [
    "### Comparing Classification schemes\n",
    "\n",
    "As a special case of clustering, the definition of\n",
    "the number of classes and the class boundaries pose a problem to the map\n",
    "designer. Recall that the Freedman-Diaconis rule was said to be optimal,\n",
    "however, the optimality necessitates the specification of an objective function.\n",
    "In the case of Freedman-Diaconis, the objective function is to minimize the\n",
    "difference between the area under estimated kernel density based on the sample\n",
    "and the area under the theoretical population distribution that generated the\n",
    "sample. \n",
    "\n",
    "This notion of statistical fit is an important one. However, it is not the\n",
    "only consideration when evaluating classifiers for the purpose of choropleth\n",
    "mapping. Also relevant is the spatial distribution of the attribute values and\n",
    "the ability of the classifier to convey a sense of that spatial distribution. As\n",
    "we shall see, this is not necessarily directly related to the statistical\n",
    "distribution of the attribute values. We will return to a joint consideration of both\n",
    "the statistical and spatial distribution of the attribute values in comparison\n",
    "of classifiers below.\n",
    "\n",
    "For map classification, a common optimality criterion\n",
    "is a measure of fit. In PySAL, the \"absolute deviation around class\n",
    "medians\" (ADCM) is calculated and provides a measure of fit that allows for\n",
    "comparison of alternative classifiers for the same value of $k$. The ADCM\n",
    "will give us a sense of how \"compact\" each group is. To see this, we can\n",
    "compare different classifiers for $k=5$ on the Mexico data:"
   ]
  },
  {
   "cell_type": "code",
   "execution_count": 31,
   "id": "desirable-stylus",
   "metadata": {
    "caption": "Absolute Deviation around Class Medians. Alternative classification schemes, Mexican State PCGDP1940.",
    "tags": []
   },
   "outputs": [
    {
     "data": {
      "image/png": "[encoded data removed]",
      "text/plain": [
       "<Figure size 432x288 with 1 Axes>"
      ]
     },
     "metadata": {
      "needs_background": "light"
     },
     "output_type": "display_data"
    }
   ],
   "source": [
    "# Bunch classifier objects\n",
    "class5 = q5, ei5, ht, mb5, msd, fj5, jc5, mp5\n",
    "# Collect ADCM for each classifier\n",
    "fits = numpy.array([ c.adcm for c in class5])\n",
    "# Convert ADCM scores to a DataFrame\n",
    "adcms = pandas.DataFrame(fits)\n",
    "# Add classifier names\n",
    "adcms['classifier'] = [c.name for c in class5]\n",
    "# Add column names to the ADCM\n",
    "adcms.columns = ['ADCM', 'Classifier']\n",
    "ax = seaborn.barplot(\n",
    "    y='Classifier', x='ADCM', data=adcms, color='blue', #palette='Pastel1'\n",
    ")\n",
    "#ax.set_title"
   ]
  },
  {
   "cell_type": "markdown",
   "id": "cheap-vancouver",
   "metadata": {
    "tags": []
   },
   "source": [
    "As is to be expected, the Fisher-Jenks classifier dominates all other k=5\n",
    "classifiers with an ADCM of 23,729 (remember, lower is better). Interestingly, the equal interval classifier\n",
    "performs well despite the problems associated with being sensitive to the\n",
    "extreme values in the distribution. The mean-standard deviation classifier has a\n",
    "very poor fit due to the skewed nature of the data and the concentrated\n",
    "assignment of the majority of the observations to the central class.\n",
    "\n",
    "The ADCM provides a global measure of fit which can be used to compare the\n",
    "alternative classifiers. As a complement to this global perspective, it can be\n",
    "revealing to consider how each of the observations in our data was classified across\n",
    "the alternative approaches. To do this we can add the class bin attribute (`yb`)\n",
    "generated by the PySAL classifiers as additional columns in the dataframe to\n",
    "visualise how they map to observations:"
   ]
  },
  {
   "cell_type": "markdown",
   "id": "latin-camel",
   "metadata": {},
   "source": [
    "Doing so highlights the similarities between Fisher Jenks and equal intervals as\n",
    "the distribution counts are very similar, with the two approaches agreeing on all 17\n",
    "states assigned to the first class. Indeed, the only observation that\n",
    "distinguishes the two classifiers is the treatment of Baja California Sur which\n",
    "is kept in class 1 in equal intervals, but assigned to class 2 by Fisher Jenks.\n",
    "\n",
    "## Color\n",
    "\n",
    "Having considered the evaluation of the statistical distribution of\n",
    "the attribute values and the alternative classification approaches, we turn\n",
    "to select the symbolization and color scheme. Together with the choice \n",
    "of classifier, these will determine the overall\n",
    "effectiveness of the choropleth map in representing the spatial\n",
    "distribution of the attribute values."
   ]
  },
  {
   "cell_type": "markdown",
   "id": "crazy-inspection",
   "metadata": {},
   "source": [
    "Prior to examining the attribute values it is important to note that, as we will\n",
    "see in the figures below, the\n",
    "spatial units for these states are far from homogeneous in their shapes and\n",
    "sizes. This can have major impacts on our brain's pattern recognition capabilities\n",
    "as we tend to be drawn to the larger polygons, even though they might not be\n",
    "the most relevant one for our analysis. Yet, when we considered the\n",
    "statistical distribution above, each observation was given equal weight. Thus,\n",
    "the spatial distribution becomes more complicated to evaluate from a visual and\n",
    "statistical perspective.\n",
    "\n",
    "The choice of a color scheme for a\n",
    "choropleth map should be based on the type of variable under consideration\n",
    "{cite}`Brewer1997mapping`. Generally, a distinction is drawn between three\n",
    "types of numerical attributes: sequential, diverging, and qualitative. We will\n",
    "dig into each below but, before, let us explore how we can make choropleths in\n",
    "Python. The mechanics are the same across different type of data, so it is worth\n",
    "spending a bit of time first to get the general idea.\n",
    "\n",
    "We will illustrate it with a quantile map:"
   ]
  },
  {
   "cell_type": "code",
   "execution_count": 32,
   "id": "blank-evening",
   "metadata": {
    "caption": "Quantile choropleth, Mexican State PCGDP1940.",
    "tags": []
   },
   "outputs": [
    {
     "data": {
      "image/png": "[encoded data removed]",
      "text/plain": [
       "<Figure size 432x288 with 1 Axes>"
      ]
     },
     "metadata": {
      "needs_background": "light"
     },
     "output_type": "display_data"
    }
   ],
   "source": [
    "ax = mx.plot(\n",
    "    column='PCGDP1940',          # Data to plot\n",
    "    scheme='Quantiles',          # Classification scheme\n",
    "    cmap='YlGn',                 # Color palette\n",
    "    legend=True,                 # Add legend\n",
    "    legend_kwds={'fmt':'{:.0f}'} # Remove decimals in legend\n",
    ")\n",
    "ax.set_axis_off();"
   ]
  },
  {
   "cell_type": "markdown",
   "id": "amended-fifth",
   "metadata": {},
   "source": [
    "Making choropleths on geo-tables is an extension of plotting their geometries. We use the same `.plot` function but now we also select the column of data we want to encode with color (in our case, `PCGDP1940`). We can also specify the classification scheme using the same names as we saw above with `mapclassify`. In fact, the underlying computation is always performed with `mapclassify`. This approach simply dispatches it so it is more convenient and we can make maps in one line of code. Next, we pick the color scheme. The default color map used by `geopandas` is viridis, which is a multi-hue sequential scheme but, for this example, we pick the yellow to green scale from Color Brewer. Finally, we specify we would like to add a legend, and format it for legibility so that there are no decimals and it reads cleaner."
   ]
  },
  {
   "cell_type": "markdown",
   "id": "simplified-allocation",
   "metadata": {},
   "source": [
    "### Sequential Palettes"
   ]
  },
  {
   "cell_type": "markdown",
   "id": "naughty-tractor",
   "metadata": {},
   "source": [
    "Sequential color schemes are appropriate for continuous data where the origin is in one end of the series. The `PCGDP1940` column we have been using so far is a good example. In these cases, we want a palette that encodes this feature in its choice of colors. Sequential palettes use a gradient of colors from an origin color to a destination color. The example above, where lowest values are encoded in the lightest yellow and the highest in dark green is a good one. Sequential palettes can also have a shades of a single color. For example, the popular \"blues\" palette in Color Brewer is a great choice too:"
   ]
  },
  {
   "cell_type": "code",
   "execution_count": 33,
   "id": "closing-exercise",
   "metadata": {
    "caption": "Quantile choropleth with black borderlines, Mexican State PCGDP1940.",
    "tags": []
   },
   "outputs": [
    {
     "data": {
      "image/png": "[encoded data removed]",
      "text/plain": [
       "<Figure size 432x288 with 1 Axes>"
      ]
     },
     "metadata": {
      "needs_background": "light"
     },
     "output_type": "display_data"
    }
   ],
   "source": [
    "ax = mx.plot(\n",
    "    column='PCGDP1940',          # Data to plot\n",
    "    scheme='Quantiles',          # Classification scheme\n",
    "    cmap='Blues',                # Color palette\n",
    "    edgecolor='k',               # Borderline color\n",
    "    linewidth=0.1,               # Borderline width\n",
    "    legend=True,                 # Add legend\n",
    "    legend_kwds={'fmt':'{:.0f}'} # Remove decimals in legend (for legibility)\n",
    ")\n",
    "ax.set_axis_off();"
   ]
  },
  {
   "cell_type": "markdown",
   "id": "charming-impossible",
   "metadata": {},
   "source": [
    "Note how, in this case, we switch borderlines to black so that we can distinguish states in the lowest category from the white background."
   ]
  },
  {
   "cell_type": "markdown",
   "id": "turned-acting",
   "metadata": {},
   "source": [
    "### Diverging Palettes\n",
    "\n",
    "A slightly different pallete from the sequential one is the so-called \"diverging\" values palette. This is\n",
    "useful with continuous data when one wishes to place equal emphasis on mid-range critical values as\n",
    "well as extremes at both ends of the distribution. Light colors are used to\n",
    "emphasize the mid-range class while dark colors with contrasting hues are used\n",
    "to distinguish the low and high extremes.\n",
    "\n",
    "To illustrate this with the Mexican\n",
    "income data, we can derive a new variable which measures the change in a state's\n",
    "rank in the income distribution between 1940 to 2000:"
   ]
  },
  {
   "cell_type": "code",
   "execution_count": 34,
   "id": "rough-suggestion",
   "metadata": {},
   "outputs": [],
   "source": [
    "# Create income-based rank table (Rank 1 is highest)\n",
    "rnk = mx[\n",
    "    ['NAME', 'PCGDP1940', 'PCGDP2000']\n",
    "].rank(ascending=False)\n",
    "# Compute change from 1940 to 2000\n",
    "rnk['change'] = rnk['PCGDP1940'] - rnk['PCGDP2000']\n",
    "# Add column with bin class\n",
    "rnk['class'] = pandas.cut(rnk['change'], [-numpy.inf, -5, 0, 5, 20])"
   ]
  },
  {
   "cell_type": "markdown",
   "id": "hazardous-acoustic",
   "metadata": {},
   "source": [
    "The `rnk` table now contains the change in rank positions of each state between 1940 and 2000, as well as a `class` column that binds together states in the  [-inf, -5), [-5, 0), [0, 5), [5, 20] groups. Note that these are descending ranks, so the wealthiest state in any period has a rank of 1 and therefore when considering the change in ranks, a negative change reflects moving down the income distribution. We can use a divergent palette to signify both intensity of the change in ranks, as well as direction:"
   ]
  },
  {
   "cell_type": "code",
   "execution_count": 35,
   "id": "organizational-belize",
   "metadata": {
    "caption": "Divergent palette, Mexican State per capita income rank change.",
    "tags": []
   },
   "outputs": [
    {
     "data": {
      "image/png": "[encoded data removed]",
      "text/plain": [
       "<Figure size 432x288 with 1 Axes>"
      ]
     },
     "metadata": {
      "needs_background": "light"
     },
     "output_type": "display_data"
    }
   ],
   "source": [
    "ax = mx[['geometry']].join(rnk).plot(\n",
    "    'class', legend=True, cmap='RdYlGn'\n",
    ")\n",
    "ax.set_axis_off();"
   ]
  },
  {
   "cell_type": "markdown",
   "id": "sorted-slave",
   "metadata": {},
   "source": [
    "In the map, the red (green) hues are states that have moved downwards (upwards) in the\n",
    "income distribution, with the darker hue representing a larger movement."
   ]
  },
  {
   "cell_type": "markdown",
   "id": "considered-grounds",
   "metadata": {},
   "source": [
    "## Advanced topics"
   ]
  },
  {
   "cell_type": "markdown",
   "id": "beginning-philosophy",
   "metadata": {},
   "source": [
    "### User-defined choropleths"
   ]
  },
  {
   "cell_type": "markdown",
   "id": "casual-projection",
   "metadata": {},
   "source": [
    "In this last section of the chapter, we consider bespoke partitions of the data that do not follow any particular algorithm but instead are informed by, for example, domain knowledge. Consider the case of classifying income in a policy context. Imagine we wanted to explore the distribution of areas with less than $\\$$10,000, then those between $\\$$10,000 and $\\$$12,500; $\\$$12,500 and $\\$$15,000; and greater than $\\$$15,000. These boundaries are arbitrary but may be tied to specific policies in which the first group is targetted in one particular way, the second and third in different ways, and the fourth is not part of the policy, for example.\n",
    "\n",
    "To create a choropleth that reflects this partitioning of the data, we can use the `UserDefined` classifier in `mapclassify`:"
   ]
  },
  {
   "cell_type": "code",
   "execution_count": 38,
   "id": "considered-objective",
   "metadata": {},
   "outputs": [
    {
     "data": {
      "text/plain": [
       "UserDefined                 \n",
       "\n",
       "      Interval         Count\n",
       "----------------------------\n",
       "[ 8684.00, 10000.00] |     2\n",
       "(10000.00, 12500.00] |     7\n",
       "(12500.00, 15000.00] |     1\n",
       "(15000.00, 54349.00] |    22"
      ]
     },
     "execution_count": 38,
     "metadata": {},
     "output_type": "execute_result"
    }
   ],
   "source": [
    "classi = mapclassify.UserDefined(\n",
    "    mx['PCGDP2000'], [10000, 12500, 15000]\n",
    ")\n",
    "classi"
   ]
  },
  {
   "cell_type": "markdown",
   "id": "uniform-participant",
   "metadata": {},
   "source": [
    "If we now want to display these classes on a map, we can use a similar approach to how we have seen above, or use the built-in plotting method in `mapclassify`:"
   ]
  },
  {
   "cell_type": "code",
   "execution_count": 39,
   "id": "soviet-italian",
   "metadata": {
    "caption": "Choropleth map colored to focus on areas of southern Mexico eligible for a target policy, showcasting User-Defined map classifications.",
    "tags": []
   },
   "outputs": [
    {
     "data": {
      "image/png": "[encoded data removed]",
      "text/plain": [
       "<Figure size 432x288 with 1 Axes>"
      ]
     },
     "metadata": {
      "needs_background": "light"
     },
     "output_type": "display_data"
    }
   ],
   "source": [
    "classi.plot(\n",
    "    mx,                      # Use geometries in the geo-table\n",
    "    legend=True,             # Add a legend\n",
    "    legend_kwds={\n",
    "        'loc': 'upper right' # Place legend on top right corner\n",
    "    },\n",
    "    axis_on=False,           # Remove axis\n",
    "    cmap='viridis_r'         # Use reverse Viridis\n",
    ");"
   ]
  },
  {
   "cell_type": "markdown",
   "id": "short-health",
   "metadata": {},
   "source": [
    "Since we want to draw attention to the classes at the bottom of the scale, we use the reverse viridis (`viridis_r`) palette, showing in purple those areas not targetted by our hypothetical policy.\n",
    "\n",
    "The approach above is useful in that it is based on `mapclassify` and thus provides a unified interface shared with all the algorithms seen above. An alternative one involves using the `pandas.cut` method, which allows us to easily include a legend too:"
   ]
  },
  {
   "cell_type": "code",
   "execution_count": null,
   "id": "flexible-haiti",
   "metadata": {
    "caption": "User-defined palette, `pandas` approach.",
    "tags": []
   },
   "outputs": [],
   "source": [
    "# Classify values specifying bins\n",
    "lbls = pandas.cut(\n",
    "    mx['PCGDP2000'], [-numpy.inf, 10000, 12500, 15000, numpy.inf]\n",
    ")\n",
    "# Dynamically assign to geo-table and plot with a legend\n",
    "ax = mx.plot(lbls, cmap='viridis_r', legend=True\n",
    ")\n",
    "# Remove axis\n",
    "ax.set_axis_off();"
   ]
  },
  {
   "cell_type": "markdown",
   "id": "preceding-metro",
   "metadata": {},
   "source": [
    "## Conclusion\n",
    "\n",
    "In this chapter we have considered the construction of choropleth maps for\n",
    "spatial data visualization. The key issues of the choice of classification\n",
    "scheme, variable measurement scale, spatial configuration and color palettes\n",
    "were illustrated using PySAL's map classification module together with other\n",
    "related packages in the PyData stack.\n",
    "\n",
    "Choropleth maps are a central tool in the geographic data science toolkit as\n",
    "they provide powerful visualizations of the spatial distribution of attribute\n",
    "values. We have only touched on the basic concepts in this chapter, as there is\n",
    "much more that can be said about cartographic theory and the design of effective\n",
    "choropleth maps. Readers interested in pursuing this literature are encouraged\n",
    "to see the references cited.\n",
    "\n",
    "At the same time, given the philosophy underlying PySAL the methods we cover\n",
    "here are sufficient for exploratory data analysis where the rapid and flexible\n",
    "generation of views is critical to the work flow. Once the analysis is complete,\n",
    "and the final presentation quality maps are to be generated, there are excellent\n",
    "packages in the data stack that the user can turn to.\n",
    "\n",
    "## Questions\n",
    "\n",
    "1. A variable (such as population density measured for census tracts in a metropolitan area) can display a high degree of skewness. That is, the distribution may be very asymmetric, either with a few very values and a bulk of low ones; or a few very low values with a bulk of high values. What is an appropriate choice for a choropleth classification for a skewed variable?\n",
    "2. Provide two solutions to the problem of ties when applying quantile classification to the following series: $y=[2,2,2,2,2,2,4,7,8,9,20,21]$ and $k=4$. Discuss the merits of each approach.\n",
    "3. Which classifiers are appropriate for data that displays a high degree of multi-modality in its statistical distribution? \n",
    "4. Are there any colormaps that work well for multi-modal data?\n",
    "5. Contrast and compare classed choropleth maps with class-less (i.e. continuous-scale) choropleth maps? What are the strengths and limitations of each type of visualization for spatial data?\n",
    "6. In what ways do choropleth classifiers treat intra-class and inter-class heterogeneity differently? What are the implications of these choices?\n",
    "7. To what extent do most commonly employed choropleth classification methods take the geographical distribution of the variable into consideration? Can you think of ways to incorporate the spatial features of a variable into a classification for a choropleth map?\n",
    "8. Discuss the similarities between the choice of the number of classes in choropleth mapping, on the one hand, and the determination of the number of clusters in a data set on the other. What aspects of choropleth mapping differentiate the former from the latter?\n",
    "9. The Fisher-Jenks classifier will always have more internally homogeneous classes than other k-classifiers. Given this, why might one decide on choosing a different k-classifier for a particular data set?\n"
   ]
  }
 ],
 "metadata": {
  "jupytext": {
   "formats": "ipynb,md"
  },
  "kernelspec": {
   "display_name": "Python 3",
   "language": "python",
   "name": "python3"
  },
  "language_info": {
   "codemirror_mode": {
    "name": "ipython",
    "version": 3
   },
   "file_extension": ".py",
   "mimetype": "text/x-python",
   "name": "python",
   "nbconvert_exporter": "python",
   "pygments_lexer": "ipython3",
   "version": "3.7.11"
  },
  "toc-autonumbering": false,
  "toc-showcode": false,
  "toc-showmarkdowntxt": false,
  "toc-showtags": true
 },
 "nbformat": 4,
 "nbformat_minor": 5
}
